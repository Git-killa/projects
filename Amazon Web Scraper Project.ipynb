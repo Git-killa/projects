{
 "cells": [
  {
   "cell_type": "code",
   "execution_count": 1,
   "id": "3854274a",
   "metadata": {},
   "outputs": [],
   "source": [
    "# import libraries \n",
    "\n",
    "from bs4 import BeautifulSoup\n",
    "import requests\n",
    "import time\n",
    "import datetime\n",
    "\n",
    "import smtplib"
   ]
  },
  {
   "cell_type": "code",
   "execution_count": 30,
   "id": "746d4f32",
   "metadata": {},
   "outputs": [
    {
     "name": "stdout",
     "output_type": "stream",
     "text": [
      "\n",
      "            The 33 Strategies Of War\n",
      "           \n",
      "\n",
      "                            S$24.30\n",
      "                           \n"
     ]
    }
   ],
   "source": [
    "# connect to website\n",
    "URL = \"https://www.amazon.sg/33-Strategies-War-Robert-Greene/dp/1861979789/ref=sr_1_5?keywords=robert+greene&sr=8-5\"\n",
    "\n",
    "headers =     {\"User-Agent\": \"Mozilla/5.0 (Windows NT 10.0; Win64; x64) AppleWebKit/537.36 (KHTML, like Gecko) Chrome/116.0.0.0 Safari/537.36\", \n",
    "    \"X-Amzn-Trace-Id\": \"Root=1-64ddd16a-00e018881814842675ad2202\"}\n",
    "page = requests.get(URL, headers = headers)\n",
    "\n",
    "Soup1 = BeautifulSoup(page.content, \"html.parser\")\n",
    "Soup2 = BeautifulSoup(Soup1.prettify(),\"html.parser\")\n",
    "\n",
    "title = Soup2.find(id='productTitle').get_text()\n",
    "price = Soup2.find(id='price').get_text()\n",
    "print(title)\n",
    "print(price)\n",
    "\n"
   ]
  },
  {
   "cell_type": "code",
   "execution_count": 33,
   "id": "43d09cde",
   "metadata": {},
   "outputs": [
    {
     "name": "stdout",
     "output_type": "stream",
     "text": [
      "The 33 Strategies Of War\n",
      "24.30\n"
     ]
    }
   ],
   "source": [
    "price = price.strip()[2:]\n",
    "title = title.strip()\n",
    "print (title)\n",
    "print(price)"
   ]
  },
  {
   "cell_type": "code",
   "execution_count": 44,
   "id": "840f6884",
   "metadata": {},
   "outputs": [
    {
     "name": "stdout",
     "output_type": "stream",
     "text": [
      "2023-08-17\n"
     ]
    }
   ],
   "source": [
    "import datetime\n",
    "Today = datetime.date.today()\n",
    "print(Today)"
   ]
  },
  {
   "cell_type": "code",
   "execution_count": 69,
   "id": "eec73341",
   "metadata": {},
   "outputs": [],
   "source": [
    "import csv\n",
    "header = ['Title', 'Price','Date']\n",
    "data = [title,price,Today]\n",
    "with open('AmazonWebScraperDataset.csv', 'w', newline='', encoding = 'UTF8')as f:\n",
    "    writer = csv.writer(f)\n",
    "    writer.writerow(header)\n",
    "    writer.writerow(data)"
   ]
  },
  {
   "cell_type": "code",
   "execution_count": 74,
   "id": "e1fa31f2",
   "metadata": {},
   "outputs": [
    {
     "name": "stdout",
     "output_type": "stream",
     "text": [
      "                      Title  Price        Date\n",
      "0  The 33 Strategies Of War   24.3  2023-08-17\n",
      "1  The 33 Strategies Of War   24.3  2023-08-17\n",
      "2  The 33 Strategies Of War   24.3  2023-08-17\n"
     ]
    }
   ],
   "source": [
    "import pandas as pd\n",
    "df = pd.read_csv(r'C:\\Users\\Admin\\AmazonWebScraperDataset.csv')\n",
    "print(df)"
   ]
  },
  {
   "cell_type": "code",
   "execution_count": 73,
   "id": "1dcd8272",
   "metadata": {},
   "outputs": [],
   "source": [
    "#appending data\n",
    "with open('AmazonWebScraperDataset.csv', 'at', newline='', encoding = 'UTF8')as f:\n",
    "    writer = csv.writer(f)\n",
    "    writer.writerow(data)"
   ]
  },
  {
   "cell_type": "code",
   "execution_count": 78,
   "id": "6aa9716f",
   "metadata": {},
   "outputs": [],
   "source": [
    "def check_price():\n",
    "    URL = \"https://www.amazon.sg/33-Strategies-War-Robert-Greene/dp/1861979789/ref=sr_1_5?keywords=robert+greene&sr=8-5\"\n",
    "\n",
    "    headers =     {\"User-Agent\": \"Mozilla/5.0 (Windows NT 10.0; Win64; x64) AppleWebKit/537.36 (KHTML, like Gecko) Chrome/116.0.0.0 Safari/537.36\", \n",
    "    \"X-Amzn-Trace-Id\": \"Root=1-64ddd16a-00e018881814842675ad2202\"}\n",
    "    page = requests.get(URL, headers = headers)\n",
    "\n",
    "    Soup1 = BeautifulSoup(page.content, \"html.parser\")\n",
    "    Soup2 = BeautifulSoup(Soup1.prettify(),\"html.parser\")\n",
    "\n",
    "    title = Soup2.find(id='productTitle').get_text()\n",
    "    price = Soup2.find(id='price').get_text()\n",
    "    price = price.strip()[2:]\n",
    "    title = title.strip()\n",
    "    import datetime\n",
    "    Today = datetime.date.today()\n",
    "    print(Today)\n",
    "    import csv\n",
    "    header = ['Title', 'Price','Date']\n",
    "    data = [title,price,Today]\n",
    "    with open('AmazonWebScraperDataset.csv', 'at', newline='', encoding = 'UTF8')as f:\n",
    "        writer = csv.writer(f)\n",
    "        writer.writerow(data)\n",
    "     "
   ]
  },
  {
   "cell_type": "code",
   "execution_count": 79,
   "id": "e160943a",
   "metadata": {},
   "outputs": [
    {
     "name": "stdout",
     "output_type": "stream",
     "text": [
      "2023-08-17\n",
      "2023-08-17\n"
     ]
    },
    {
     "ename": "KeyboardInterrupt",
     "evalue": "",
     "output_type": "error",
     "traceback": [
      "\u001b[1;31m---------------------------------------------------------------------------\u001b[0m",
      "\u001b[1;31mKeyboardInterrupt\u001b[0m                         Traceback (most recent call last)",
      "Cell \u001b[1;32mIn[79], line 3\u001b[0m\n\u001b[0;32m      1\u001b[0m \u001b[38;5;28;01mwhile\u001b[39;00m(\u001b[38;5;28;01mTrue\u001b[39;00m):\n\u001b[0;32m      2\u001b[0m     check_price()\n\u001b[1;32m----> 3\u001b[0m     \u001b[43mtime\u001b[49m\u001b[38;5;241;43m.\u001b[39;49m\u001b[43msleep\u001b[49m\u001b[43m(\u001b[49m\u001b[38;5;241;43m5\u001b[39;49m\u001b[43m)\u001b[49m\n",
      "\u001b[1;31mKeyboardInterrupt\u001b[0m: "
     ]
    }
   ],
   "source": [
    "while(True):\n",
    "    check_price()\n",
    "    time.sleep(5)"
   ]
  },
  {
   "cell_type": "code",
   "execution_count": 80,
   "id": "b3556fda",
   "metadata": {},
   "outputs": [
    {
     "name": "stdout",
     "output_type": "stream",
     "text": [
      "                      Title  Price        Date\n",
      "0  The 33 Strategies Of War   24.3  2023-08-17\n",
      "1  The 33 Strategies Of War   24.3  2023-08-17\n",
      "2  The 33 Strategies Of War   24.3  2023-08-17\n",
      "3  The 33 Strategies Of War   24.3  2023-08-17\n",
      "4  The 33 Strategies Of War   24.3  2023-08-17\n",
      "5  The 33 Strategies Of War   24.3  2023-08-17\n",
      "6  The 33 Strategies Of War   24.3  2023-08-17\n"
     ]
    }
   ],
   "source": [
    "import pandas as pd\n",
    "df = pd.read_csv(r'C:\\Users\\Admin\\AmazonWebScraperDataset.csv')\n",
    "print(df)"
   ]
  },
  {
   "cell_type": "code",
   "execution_count": null,
   "id": "a7625179",
   "metadata": {},
   "outputs": [],
   "source": []
  },
  {
   "cell_type": "code",
   "execution_count": null,
   "id": "bc50016c",
   "metadata": {},
   "outputs": [],
   "source": []
  },
  {
   "cell_type": "code",
   "execution_count": null,
   "id": "0ba87a7c",
   "metadata": {},
   "outputs": [],
   "source": []
  },
  {
   "cell_type": "code",
   "execution_count": null,
   "id": "7da4db7b",
   "metadata": {},
   "outputs": [],
   "source": []
  },
  {
   "cell_type": "code",
   "execution_count": null,
   "id": "3954330a",
   "metadata": {},
   "outputs": [],
   "source": []
  }
 ],
 "metadata": {
  "kernelspec": {
   "display_name": "Python 3 (ipykernel)",
   "language": "python",
   "name": "python3"
  },
  "language_info": {
   "codemirror_mode": {
    "name": "ipython",
    "version": 3
   },
   "file_extension": ".py",
   "mimetype": "text/x-python",
   "name": "python",
   "nbconvert_exporter": "python",
   "pygments_lexer": "ipython3",
   "version": "3.10.9"
  }
 },
 "nbformat": 4,
 "nbformat_minor": 5
}
