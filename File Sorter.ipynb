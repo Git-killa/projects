{
 "cells": [
  {
   "cell_type": "markdown",
   "id": "57a66516",
   "metadata": {},
   "source": [
    "# Automatic File Sorter in File Explorer\n",
    "   You can add in your file path and then use this to sort your        files into specific folder\n",
    "   "
   ]
  },
  {
   "cell_type": "code",
   "execution_count": 7,
   "id": "8d32a1ab",
   "metadata": {},
   "outputs": [],
   "source": [
    "import os, shutil"
   ]
  },
  {
   "cell_type": "code",
   "execution_count": 8,
   "id": "a99234bf",
   "metadata": {},
   "outputs": [],
   "source": [
    "path = r\"C:/Users/lenovo/Desktop/testForPython/\""
   ]
  },
  {
   "cell_type": "code",
   "execution_count": 9,
   "id": "51ce053a",
   "metadata": {},
   "outputs": [],
   "source": [
    "file_name = os.listdir(path)"
   ]
  },
  {
   "cell_type": "code",
   "execution_count": 16,
   "id": "e206afe1",
   "metadata": {},
   "outputs": [],
   "source": [
    "\n",
    "folder_names = ['csv files','image files','text files','mp4 files', 'mp3 files',\"pdf files\",'png file']\n",
    "\n",
    "for loop in range(0,7):\n",
    "    if not os.path.exists(path+ folder_names[loop]):\n",
    "        os.makedirs((path+ folder_names[loop]))\n",
    "\n",
    "for file in file_name:\n",
    "    if \".pdf\" in file and not os.path.exists(path + \"pdf files /\"+file):\n",
    "        shutil.move(path + file, path +\"pdf files/\"+ file)\n",
    "    elif \".csv\" in file and not os.path.exists(path + \"csv files /\"+file):\n",
    "        shutil.move(path + file, path +\"csv files/\"+ file)\n",
    "    elif \".mp4\" in file and not os.path.exists(path + \"mp4 files /\"+file):\n",
    "        shutil.move(path + file, path +\"mp4 files/\"+ file)\n",
    "    elif \".mp3\" in file and not os.path.exists(path + \"mp3 files /\"+file):\n",
    "        shutil.move(path + file, path +\"mp3 files/\"+ file)\n",
    "    elif \".txt\" in file and not os.path.exists(path + \"txt files /\"+file):\n",
    "        shutil.move(path + file, path +\"txt files/\"+ file)\n",
    "    elif \".png\" in file and not os.path.exists(path + \"png files /\"+file):\n",
    "        shutil.move(path + file, path +\"png file/\"+ file)\n",
    "  "
   ]
  },
  {
   "cell_type": "code",
   "execution_count": null,
   "id": "fae88c51",
   "metadata": {},
   "outputs": [],
   "source": []
  },
  {
   "cell_type": "code",
   "execution_count": null,
   "id": "45621a46",
   "metadata": {},
   "outputs": [],
   "source": []
  },
  {
   "cell_type": "code",
   "execution_count": null,
   "id": "5393c0f4",
   "metadata": {},
   "outputs": [],
   "source": []
  },
  {
   "cell_type": "code",
   "execution_count": null,
   "id": "ff685bd3",
   "metadata": {},
   "outputs": [],
   "source": []
  },
  {
   "cell_type": "code",
   "execution_count": null,
   "id": "21c0428f",
   "metadata": {},
   "outputs": [],
   "source": []
  },
  {
   "cell_type": "code",
   "execution_count": null,
   "id": "3ba34c16",
   "metadata": {},
   "outputs": [],
   "source": []
  },
  {
   "cell_type": "code",
   "execution_count": null,
   "id": "ad3c3405",
   "metadata": {},
   "outputs": [],
   "source": []
  },
  {
   "cell_type": "code",
   "execution_count": null,
   "id": "62c21244",
   "metadata": {},
   "outputs": [],
   "source": []
  },
  {
   "cell_type": "code",
   "execution_count": null,
   "id": "9ca844c9",
   "metadata": {},
   "outputs": [],
   "source": []
  },
  {
   "cell_type": "code",
   "execution_count": null,
   "id": "5452c73b",
   "metadata": {},
   "outputs": [],
   "source": []
  },
  {
   "cell_type": "code",
   "execution_count": null,
   "id": "7ed8aa3a",
   "metadata": {},
   "outputs": [],
   "source": []
  },
  {
   "cell_type": "code",
   "execution_count": null,
   "id": "5d3b456d",
   "metadata": {},
   "outputs": [],
   "source": []
  },
  {
   "cell_type": "code",
   "execution_count": null,
   "id": "afff137f",
   "metadata": {},
   "outputs": [],
   "source": []
  },
  {
   "cell_type": "code",
   "execution_count": null,
   "id": "ab731055",
   "metadata": {},
   "outputs": [],
   "source": []
  },
  {
   "cell_type": "code",
   "execution_count": null,
   "id": "87c68819",
   "metadata": {},
   "outputs": [],
   "source": []
  },
  {
   "cell_type": "code",
   "execution_count": null,
   "id": "4fb36928",
   "metadata": {},
   "outputs": [],
   "source": []
  },
  {
   "cell_type": "code",
   "execution_count": null,
   "id": "8f962fa7",
   "metadata": {},
   "outputs": [],
   "source": []
  },
  {
   "cell_type": "code",
   "execution_count": null,
   "id": "49a583f9",
   "metadata": {},
   "outputs": [],
   "source": []
  },
  {
   "cell_type": "code",
   "execution_count": null,
   "id": "dd1d3f06",
   "metadata": {},
   "outputs": [],
   "source": []
  },
  {
   "cell_type": "code",
   "execution_count": null,
   "id": "3b57bd5f",
   "metadata": {},
   "outputs": [],
   "source": []
  }
 ],
 "metadata": {
  "kernelspec": {
   "display_name": "Python 3 (ipykernel)",
   "language": "python",
   "name": "python3"
  },
  "language_info": {
   "codemirror_mode": {
    "name": "ipython",
    "version": 3
   },
   "file_extension": ".py",
   "mimetype": "text/x-python",
   "name": "python",
   "nbconvert_exporter": "python",
   "pygments_lexer": "ipython3",
   "version": "3.10.9"
  }
 },
 "nbformat": 4,
 "nbformat_minor": 5
}
